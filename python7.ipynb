{
  "nbformat": 4,
  "nbformat_minor": 0,
  "metadata": {
    "colab": {
      "provenance": [],
      "authorship_tag": "ABX9TyPOEkB/hC0fxPZwIGEg+6ZG",
      "include_colab_link": true
    },
    "kernelspec": {
      "name": "python3",
      "display_name": "Python 3"
    },
    "language_info": {
      "name": "python"
    }
  },
  "cells": [
    {
      "cell_type": "markdown",
      "metadata": {
        "id": "view-in-github",
        "colab_type": "text"
      },
      "source": [
        "<a href=\"https://colab.research.google.com/github/SaipoojithaNamani/python7/blob/main/python7.ipynb\" target=\"_parent\"><img src=\"https://colab.research.google.com/assets/colab-badge.svg\" alt=\"Open In Colab\"/></a>"
      ]
    },
    {
      "cell_type": "code",
      "execution_count": 1,
      "metadata": {
        "id": "bIJAsMpXayq4"
      },
      "outputs": [],
      "source": [
        "import numpy as np"
      ]
    },
    {
      "cell_type": "code",
      "source": [
        "a=np.random.randint(20,60,15)"
      ],
      "metadata": {
        "id": "bR1GJJYIa1sv"
      },
      "execution_count": 2,
      "outputs": []
    },
    {
      "cell_type": "code",
      "source": [
        "a"
      ],
      "metadata": {
        "colab": {
          "base_uri": "https://localhost:8080/"
        },
        "id": "vKMrQuXda75L",
        "outputId": "ecfa83d3-cf18-411f-84f4-ee5d6298ccfe"
      },
      "execution_count": 3,
      "outputs": [
        {
          "output_type": "execute_result",
          "data": {
            "text/plain": [
              "array([36, 50, 26, 29, 37, 49, 40, 44, 56, 33, 42, 45, 24, 25, 39])"
            ]
          },
          "metadata": {},
          "execution_count": 3
        }
      ]
    },
    {
      "cell_type": "code",
      "source": [
        "a.ndim #to chrck dimension of the array"
      ],
      "metadata": {
        "colab": {
          "base_uri": "https://localhost:8080/"
        },
        "id": "WYkWAmEza8rk",
        "outputId": "ef0938f2-865b-4a47-84b0-9b7f83a0ac92"
      },
      "execution_count": 5,
      "outputs": [
        {
          "output_type": "execute_result",
          "data": {
            "text/plain": [
              "1"
            ]
          },
          "metadata": {},
          "execution_count": 5
        }
      ]
    },
    {
      "cell_type": "code",
      "source": [
        "58,31,29,59,52,39,39,52\n",
        "\n"
      ],
      "metadata": {
        "colab": {
          "base_uri": "https://localhost:8080/"
        },
        "id": "mvgui5JAbIGA",
        "outputId": "aea41742-ff53-4b2d-b5b4-648fa46fac95"
      },
      "execution_count": 6,
      "outputs": [
        {
          "output_type": "execute_result",
          "data": {
            "text/plain": [
              "(58, 31, 29, 59, 52, 39, 39, 52)"
            ]
          },
          "metadata": {},
          "execution_count": 6
        }
      ]
    },
    {
      "cell_type": "code",
      "source": [
        "a[-2:-10:-1] #slicing"
      ],
      "metadata": {
        "colab": {
          "base_uri": "https://localhost:8080/"
        },
        "id": "x2prXNlBbxlZ",
        "outputId": "45d99e6b-83ce-4734-ec1f-73b63fe40c62"
      },
      "execution_count": 7,
      "outputs": [
        {
          "output_type": "execute_result",
          "data": {
            "text/plain": [
              "array([25, 24, 45, 42, 33, 56, 44, 40])"
            ]
          },
          "metadata": {},
          "execution_count": 7
        }
      ]
    },
    {
      "cell_type": "code",
      "source": [
        "np.random.seed(94)\n",
        "b=np.random.randint(15,50,(7,8))\n",
        "b"
      ],
      "metadata": {
        "colab": {
          "base_uri": "https://localhost:8080/"
        },
        "id": "YV9K1j01b5YF",
        "outputId": "4fc213cd-18fe-4018-db74-8bad90954759"
      },
      "execution_count": 15,
      "outputs": [
        {
          "output_type": "execute_result",
          "data": {
            "text/plain": [
              "array([[33, 15, 18, 37, 44, 34, 31, 23],\n",
              "       [31, 29, 48, 25, 47, 39, 39, 18],\n",
              "       [30, 41, 26, 21, 28, 29, 17, 38],\n",
              "       [49, 47, 16, 15, 48, 22, 44, 35],\n",
              "       [23, 30, 25, 34, 42, 16, 39, 35],\n",
              "       [45, 45, 21, 45, 37, 48, 23, 47],\n",
              "       [30, 37, 37, 17, 45, 24, 44, 39]])"
            ]
          },
          "metadata": {},
          "execution_count": 15
        }
      ]
    },
    {
      "cell_type": "code",
      "source": [
        "b[2] # 2 row in teo dimensional array"
      ],
      "metadata": {
        "colab": {
          "base_uri": "https://localhost:8080/"
        },
        "id": "MOk642FzcIls",
        "outputId": "f3a21e35-3a1c-4683-e2b0-60dc93e70ced"
      },
      "execution_count": 16,
      "outputs": [
        {
          "output_type": "execute_result",
          "data": {
            "text/plain": [
              "array([30, 41, 26, 21, 28, 29, 17, 38])"
            ]
          },
          "metadata": {},
          "execution_count": 16
        }
      ]
    },
    {
      "cell_type": "code",
      "source": [
        "a[2] # accesing 2nd element of array in one dimensional"
      ],
      "metadata": {
        "colab": {
          "base_uri": "https://localhost:8080/"
        },
        "id": "vUZG_e8ncter",
        "outputId": "f058fc1c-a937-462f-9245-91546a471218"
      },
      "execution_count": 17,
      "outputs": [
        {
          "output_type": "execute_result",
          "data": {
            "text/plain": [
              "26"
            ]
          },
          "metadata": {},
          "execution_count": 17
        }
      ]
    },
    {
      "cell_type": "code",
      "source": [
        "b[4]"
      ],
      "metadata": {
        "colab": {
          "base_uri": "https://localhost:8080/"
        },
        "id": "gw6E6e4Dc20X",
        "outputId": "9c8d25b2-627e-412d-fc03-860570062497"
      },
      "execution_count": 18,
      "outputs": [
        {
          "output_type": "execute_result",
          "data": {
            "text/plain": [
              "array([23, 30, 25, 34, 42, 16, 39, 35])"
            ]
          },
          "metadata": {},
          "execution_count": 18
        }
      ]
    },
    {
      "cell_type": "code",
      "source": [
        "b[-1] # or b[6]"
      ],
      "metadata": {
        "colab": {
          "base_uri": "https://localhost:8080/"
        },
        "id": "dW_55dVjc5xb",
        "outputId": "846408e6-6e25-4d93-f122-294a3bb42d30"
      },
      "execution_count": 19,
      "outputs": [
        {
          "output_type": "execute_result",
          "data": {
            "text/plain": [
              "array([30, 37, 37, 17, 45, 24, 44, 39])"
            ]
          },
          "metadata": {},
          "execution_count": 19
        }
      ]
    },
    {
      "cell_type": "code",
      "source": [
        "b[:,7] #aceesing 7th column"
      ],
      "metadata": {
        "colab": {
          "base_uri": "https://localhost:8080/"
        },
        "id": "NafL5SoWdD29",
        "outputId": "f1632775-71c6-4ae7-e3fa-17ded0afa92f"
      },
      "execution_count": 21,
      "outputs": [
        {
          "output_type": "execute_result",
          "data": {
            "text/plain": [
              "array([23, 18, 38, 35, 35, 47, 39])"
            ]
          },
          "metadata": {},
          "execution_count": 21
        }
      ]
    },
    {
      "cell_type": "code",
      "source": [
        "b[:,4]"
      ],
      "metadata": {
        "colab": {
          "base_uri": "https://localhost:8080/"
        },
        "id": "kxrH_PLGddJJ",
        "outputId": "f39cfc5e-8dbe-4294-f870-ed99f7ca8f99"
      },
      "execution_count": 22,
      "outputs": [
        {
          "output_type": "execute_result",
          "data": {
            "text/plain": [
              "array([44, 47, 28, 48, 42, 37, 45])"
            ]
          },
          "metadata": {},
          "execution_count": 22
        }
      ]
    },
    {
      "cell_type": "code",
      "source": [
        "b"
      ],
      "metadata": {
        "colab": {
          "base_uri": "https://localhost:8080/"
        },
        "id": "HaWDQQRbdhIn",
        "outputId": "516513b3-784a-4390-93e7-87abbb261483"
      },
      "execution_count": 23,
      "outputs": [
        {
          "output_type": "execute_result",
          "data": {
            "text/plain": [
              "array([[33, 15, 18, 37, 44, 34, 31, 23],\n",
              "       [31, 29, 48, 25, 47, 39, 39, 18],\n",
              "       [30, 41, 26, 21, 28, 29, 17, 38],\n",
              "       [49, 47, 16, 15, 48, 22, 44, 35],\n",
              "       [23, 30, 25, 34, 42, 16, 39, 35],\n",
              "       [45, 45, 21, 45, 37, 48, 23, 47],\n",
              "       [30, 37, 37, 17, 45, 24, 44, 39]])"
            ]
          },
          "metadata": {},
          "execution_count": 23
        }
      ]
    },
    {
      "cell_type": "code",
      "source": [
        "b[3,1] #to access a particular number"
      ],
      "metadata": {
        "colab": {
          "base_uri": "https://localhost:8080/"
        },
        "id": "ovQWz_ZgdlmL",
        "outputId": "290f8550-9c04-4779-c890-e0ee31378f19"
      },
      "execution_count": 24,
      "outputs": [
        {
          "output_type": "execute_result",
          "data": {
            "text/plain": [
              "47"
            ]
          },
          "metadata": {},
          "execution_count": 24
        }
      ]
    },
    {
      "cell_type": "code",
      "source": [
        "b[6,4]"
      ],
      "metadata": {
        "colab": {
          "base_uri": "https://localhost:8080/"
        },
        "id": "gYDVDYVtdzkK",
        "outputId": "d8e89045-6d1d-4e55-dbe0-973b80e3fec5"
      },
      "execution_count": 26,
      "outputs": [
        {
          "output_type": "execute_result",
          "data": {
            "text/plain": [
              "45"
            ]
          },
          "metadata": {},
          "execution_count": 26
        }
      ]
    },
    {
      "cell_type": "code",
      "source": [
        "b[6,6]"
      ],
      "metadata": {
        "colab": {
          "base_uri": "https://localhost:8080/"
        },
        "id": "Rnjr6zhWd5Hl",
        "outputId": "af8ecc4d-72bd-46b4-c9e3-ccf722fd8029"
      },
      "execution_count": 28,
      "outputs": [
        {
          "output_type": "execute_result",
          "data": {
            "text/plain": [
              "44"
            ]
          },
          "metadata": {},
          "execution_count": 28
        }
      ]
    },
    {
      "cell_type": "code",
      "source": [
        "b[1:5]"
      ],
      "metadata": {
        "colab": {
          "base_uri": "https://localhost:8080/"
        },
        "id": "kSzXQkZpeF1C",
        "outputId": "fe08848f-4166-4f69-d576-c75e7d4335b9"
      },
      "execution_count": 29,
      "outputs": [
        {
          "output_type": "execute_result",
          "data": {
            "text/plain": [
              "array([[31, 29, 48, 25, 47, 39, 39, 18],\n",
              "       [30, 41, 26, 21, 28, 29, 17, 38],\n",
              "       [49, 47, 16, 15, 48, 22, 44, 35],\n",
              "       [23, 30, 25, 34, 42, 16, 39, 35]])"
            ]
          },
          "metadata": {},
          "execution_count": 29
        }
      ]
    },
    {
      "cell_type": "code",
      "source": [
        "b[1:5,1:5]"
      ],
      "metadata": {
        "colab": {
          "base_uri": "https://localhost:8080/"
        },
        "id": "7WvgAoYnetuh",
        "outputId": "6cb21495-6ddb-4c1d-d3c5-87ea26cdb59b"
      },
      "execution_count": 30,
      "outputs": [
        {
          "output_type": "execute_result",
          "data": {
            "text/plain": [
              "array([[29, 48, 25, 47],\n",
              "       [41, 26, 21, 28],\n",
              "       [47, 16, 15, 48],\n",
              "       [30, 25, 34, 42]])"
            ]
          },
          "metadata": {},
          "execution_count": 30
        }
      ]
    },
    {
      "cell_type": "code",
      "source": [
        "#array[row_start : row-end : row-step , col_start : col_end : col_step]\n",
        "b[3:7,2:7]"
      ],
      "metadata": {
        "colab": {
          "base_uri": "https://localhost:8080/"
        },
        "id": "9wwY_HHOfMmk",
        "outputId": "babda0b7-b417-41a7-b292-0dcc83447f67"
      },
      "execution_count": 31,
      "outputs": [
        {
          "output_type": "execute_result",
          "data": {
            "text/plain": [
              "array([[16, 15, 48, 22, 44],\n",
              "       [25, 34, 42, 16, 39],\n",
              "       [21, 45, 37, 48, 23],\n",
              "       [37, 17, 45, 24, 44]])"
            ]
          },
          "metadata": {},
          "execution_count": 31
        }
      ]
    },
    {
      "cell_type": "code",
      "source": [
        "b[1:7,1:7]"
      ],
      "metadata": {
        "colab": {
          "base_uri": "https://localhost:8080/"
        },
        "id": "6CEBZDC8hERh",
        "outputId": "6a371a48-b354-4216-85f0-cff1e9dcf411"
      },
      "execution_count": 32,
      "outputs": [
        {
          "output_type": "execute_result",
          "data": {
            "text/plain": [
              "array([[29, 48, 25, 47, 39, 39],\n",
              "       [41, 26, 21, 28, 29, 17],\n",
              "       [47, 16, 15, 48, 22, 44],\n",
              "       [30, 25, 34, 42, 16, 39],\n",
              "       [45, 21, 45, 37, 48, 23],\n",
              "       [37, 37, 17, 45, 24, 44]])"
            ]
          },
          "metadata": {},
          "execution_count": 32
        }
      ]
    },
    {
      "cell_type": "code",
      "source": [
        "b[-7:-2,-7:-2]"
      ],
      "metadata": {
        "colab": {
          "base_uri": "https://localhost:8080/"
        },
        "id": "06M8WJddhaAc",
        "outputId": "60ab3c8a-3ced-407b-fcc6-09ca6930088a"
      },
      "execution_count": 34,
      "outputs": [
        {
          "output_type": "execute_result",
          "data": {
            "text/plain": [
              "array([[15, 18, 37, 44, 34],\n",
              "       [29, 48, 25, 47, 39],\n",
              "       [41, 26, 21, 28, 29],\n",
              "       [47, 16, 15, 48, 22],\n",
              "       [30, 25, 34, 42, 16]])"
            ]
          },
          "metadata": {},
          "execution_count": 34
        }
      ]
    },
    {
      "cell_type": "code",
      "source": [],
      "metadata": {
        "id": "SnZOohh6ieiy"
      },
      "execution_count": 37,
      "outputs": []
    },
    {
      "cell_type": "code",
      "source": [
        "b[2,1]"
      ],
      "metadata": {
        "colab": {
          "base_uri": "https://localhost:8080/"
        },
        "id": "ddVNrKnojhXK",
        "outputId": "2f27cf30-92b1-463f-9c44-684429851e3c"
      },
      "execution_count": 38,
      "outputs": [
        {
          "output_type": "execute_result",
          "data": {
            "text/plain": [
              "41"
            ]
          },
          "metadata": {},
          "execution_count": 38
        }
      ]
    },
    {
      "cell_type": "code",
      "source": [
        "b[2,4]"
      ],
      "metadata": {
        "colab": {
          "base_uri": "https://localhost:8080/"
        },
        "id": "agZxkUoIj5NO",
        "outputId": "4a964b60-1206-47b9-944d-f09c5c3f7937"
      },
      "execution_count": 39,
      "outputs": [
        {
          "output_type": "execute_result",
          "data": {
            "text/plain": [
              "28"
            ]
          },
          "metadata": {},
          "execution_count": 39
        }
      ]
    },
    {
      "cell_type": "code",
      "source": [
        "b[2,7]"
      ],
      "metadata": {
        "colab": {
          "base_uri": "https://localhost:8080/"
        },
        "id": "Qjjrm-njj913",
        "outputId": "34b62d9e-d239-444b-d5ac-cefecbba5fb4"
      },
      "execution_count": 40,
      "outputs": [
        {
          "output_type": "execute_result",
          "data": {
            "text/plain": [
              "38"
            ]
          },
          "metadata": {},
          "execution_count": 40
        }
      ]
    },
    {
      "cell_type": "code",
      "source": [
        "b[4,1]"
      ],
      "metadata": {
        "colab": {
          "base_uri": "https://localhost:8080/"
        },
        "id": "5U7TwKtjkBeK",
        "outputId": "7709145c-faea-4e0f-f43c-62d0c0d0903c"
      },
      "execution_count": 41,
      "outputs": [
        {
          "output_type": "execute_result",
          "data": {
            "text/plain": [
              "30"
            ]
          },
          "metadata": {},
          "execution_count": 41
        }
      ]
    },
    {
      "cell_type": "code",
      "source": [
        "#31 49 45\n",
        "48"
      ],
      "metadata": {
        "colab": {
          "base_uri": "https://localhost:8080/"
        },
        "id": "SKUg6p7KkHF5",
        "outputId": "fece0f6d-d811-42d4-a7e3-f3cd970de79b"
      },
      "execution_count": 46,
      "outputs": [
        {
          "output_type": "execute_result",
          "data": {
            "text/plain": [
              "48"
            ]
          },
          "metadata": {},
          "execution_count": 46
        }
      ]
    },
    {
      "cell_type": "code",
      "source": [
        "b"
      ],
      "metadata": {
        "colab": {
          "base_uri": "https://localhost:8080/"
        },
        "id": "xC9adXq7kc_M",
        "outputId": "4f2daac3-650f-47ff-80e7-cac7849f6893"
      },
      "execution_count": 49,
      "outputs": [
        {
          "output_type": "execute_result",
          "data": {
            "text/plain": [
              "array([[33, 15, 18, 37, 44, 34, 31, 23],\n",
              "       [31, 29, 48, 25, 47, 39, 39, 18],\n",
              "       [30, 41, 26, 21, 28, 29, 17, 38],\n",
              "       [49, 47, 16, 15, 48, 22, 44, 35],\n",
              "       [23, 30, 25, 34, 42, 16, 39, 35],\n",
              "       [45, 45, 21, 45, 37, 48, 23, 47],\n",
              "       [30, 37, 37, 17, 45, 24, 44, 39]])"
            ]
          },
          "metadata": {},
          "execution_count": 49
        }
      ]
    },
    {
      "cell_type": "code",
      "source": [
        "np.where(b>30)"
      ],
      "metadata": {
        "colab": {
          "base_uri": "https://localhost:8080/"
        },
        "id": "xp5N6PmOlHv1",
        "outputId": "3c2fb950-8b01-410d-938b-feb49c02cfe0"
      },
      "execution_count": 50,
      "outputs": [
        {
          "output_type": "execute_result",
          "data": {
            "text/plain": [
              "(array([0, 0, 0, 0, 0, 1, 1, 1, 1, 1, 2, 2, 3, 3, 3, 3, 3, 4, 4, 4, 4, 5,\n",
              "        5, 5, 5, 5, 5, 6, 6, 6, 6, 6]),\n",
              " array([0, 3, 4, 5, 6, 0, 2, 4, 5, 6, 1, 7, 0, 1, 4, 6, 7, 3, 4, 6, 7, 0,\n",
              "        1, 3, 4, 5, 7, 1, 2, 4, 6, 7]))"
            ]
          },
          "metadata": {},
          "execution_count": 50
        }
      ]
    },
    {
      "cell_type": "code",
      "source": [],
      "metadata": {
        "id": "aF1mYGailhMj"
      },
      "execution_count": null,
      "outputs": []
    }
  ]
}